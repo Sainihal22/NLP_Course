{
 "cells": [
  {
   "cell_type": "markdown",
   "id": "0b8bdaad",
   "metadata": {},
   "source": [
    "Tokenization of paragraphs/sentences"
   ]
  },
  {
   "cell_type": "code",
   "execution_count": 12,
   "id": "12a08e17",
   "metadata": {},
   "outputs": [],
   "source": [
    "import nltk"
   ]
  },
  {
   "cell_type": "code",
   "execution_count": 3,
   "id": "0f9c8cc9",
   "metadata": {},
   "outputs": [
    {
     "name": "stdout",
     "output_type": "stream",
     "text": [
      "showing info https://raw.githubusercontent.com/nltk/nltk_data/gh-pages/index.xml\n"
     ]
    },
    {
     "data": {
      "text/plain": [
       "True"
      ]
     },
     "execution_count": 3,
     "metadata": {},
     "output_type": "execute_result"
    }
   ],
   "source": [
    "nltk.download()"
   ]
  },
  {
   "cell_type": "code",
   "execution_count": 3,
   "id": "0ca3bbc8",
   "metadata": {},
   "outputs": [
    {
     "name": "stderr",
     "output_type": "stream",
     "text": [
      "[nltk_data] Error loading punkt: <urlopen error [WinError 10060] A\n",
      "[nltk_data]     connection attempt failed because the connected party\n",
      "[nltk_data]     did not properly respond after a period of time, or\n",
      "[nltk_data]     established connection failed because connected host\n",
      "[nltk_data]     has failed to respond>\n"
     ]
    },
    {
     "data": {
      "text/plain": [
       "False"
      ]
     },
     "execution_count": 3,
     "metadata": {},
     "output_type": "execute_result"
    }
   ],
   "source": [
    "nltk.download(\"punkt\")"
   ]
  },
  {
   "cell_type": "code",
   "execution_count": 13,
   "id": "31b37fdb",
   "metadata": {},
   "outputs": [],
   "source": [
    "paragraph = \"\"\" I have three visions for India. In 3000 years of our history, people from allover the world have come and invaded us, captured our lands, conquered our minds. \n",
    "From Alexander onwards. The Greeks, the Portuguese, the British, the French, the Dutch, all of them came and looted us, took over what was ours. \n",
    "Yet we have not done this to any other nation. We have not conquered anyone. We have not grabbed their land, their culture, their history tried to enforce our way of life on them. Why? Because we respect the freedom of others. \n",
    "That is why my first vision is that of FREEDOM. \n",
    "I believe that India got its first vision of this in 1857, when we started the war of independence. It is this freedom that we must protect and nurture and built on. \n",
    "If we are not free, no one will respect us. My second vision for India is DEVELOPMENT. \n",
    "For fifty years we have been a developing nation. It is time we see ourselves as a developed nation. We are among top 5 nations of the world in terms of GDP. \n",
    "We have 10 percent growth rate in most areas. Our poverty levels are falling, our achievements are being globally recognized today. \n",
    "Yet we lack the self-confidence to see ourselves as a developed nation, self reliant and self assured. Isn't this right?\n",
    "I have a third vision. The India must stand up to the world. Because I believe that unless India stands up to the world, no one will respect us. \n",
    "Only strength respects strength. We must be strong not only as a military power but also as an economic power. Both must go hand-in-hand.\n",
    "My good fortune was to have work with three great minds. Dr Vikram Sarabhai of the Dept. of space, Professor Satish Dhawan, who succeeded him, and Dr.Brahm Prakash, father of nuclear material. \n",
    "I was lucky to have worked with all three of them closely and consider this the great opportunity of my life.\n",
    "I see four milestones in my career: \"\"\""
   ]
  },
  {
   "cell_type": "code",
   "execution_count": 14,
   "id": "87043e32",
   "metadata": {},
   "outputs": [
    {
     "name": "stdout",
     "output_type": "stream",
     "text": [
      " I have three visions for India. In 3000 years of our history, people from allover the world have come and invaded us, captured our lands, conquered our minds. \n",
      "From Alexander onwards. The Greeks, the Portuguese, the British, the French, the Dutch, all of them came and looted us, took over what was ours. \n",
      "Yet we have not done this to any other nation. We have not conquered anyone. We have not grabbed their land, their culture, their history tried to enforce our way of life on them. Why? Because we respect the freedom of others. \n",
      "That is why my first vision is that of FREEDOM. \n",
      "I believe that India got its first vision of this in 1857, when we started the war of independence. It is this freedom that we must protect and nurture and built on. \n",
      "If we are not free, no one will respect us. My second vision for India is DEVELOPMENT. \n",
      "For fifty years we have been a developing nation. It is time we see ourselves as a developed nation. We are among top 5 nations of the world in terms of GDP. \n",
      "We have 10 percent growth rate in most areas. Our poverty levels are falling, our achievements are being globally recognized today. \n",
      "Yet we lack the self-confidence to see ourselves as a developed nation, self reliant and self assured. Isn't this right?\n",
      "I have a third vision. The India must stand up to the world. Because I believe that unless India stands up to the world, no one will respect us. \n",
      "Only strength respects strength. We must be strong not only as a military power but also as an economic power. Both must go hand-in-hand.\n",
      "My good fortune was to have work with three great minds. Dr Vikram Sarabhai of the Dept. of space, Professor Satish Dhawan, who succeeded him, and Dr.Brahm Prakash, father of nuclear material. \n",
      "I was lucky to have worked with all three of them closely and consider this the great opportunity of my life.\n",
      "I see four milestones in my career: \n"
     ]
    }
   ],
   "source": [
    "print(paragraph)"
   ]
  },
  {
   "cell_type": "markdown",
   "id": "ef80b63a",
   "metadata": {},
   "source": [
    "Tokenizing Sentences"
   ]
  },
  {
   "cell_type": "code",
   "execution_count": 15,
   "id": "1b16aca3",
   "metadata": {},
   "outputs": [],
   "source": [
    "sentences = nltk.sent_tokenize(paragraph)"
   ]
  },
  {
   "cell_type": "code",
   "execution_count": 16,
   "id": "24446f5d",
   "metadata": {},
   "outputs": [
    {
     "name": "stdout",
     "output_type": "stream",
     "text": [
      "[' I have three visions for India.', 'In 3000 years of our history, people from allover the world have come and invaded us, captured our lands, conquered our minds.', 'From Alexander onwards.', 'The Greeks, the Portuguese, the British, the French, the Dutch, all of them came and looted us, took over what was ours.', 'Yet we have not done this to any other nation.', 'We have not conquered anyone.', 'We have not grabbed their land, their culture, their history tried to enforce our way of life on them.', 'Why?', 'Because we respect the freedom of others.', 'That is why my first vision is that of FREEDOM.', 'I believe that India got its first vision of this in 1857, when we started the war of independence.', 'It is this freedom that we must protect and nurture and built on.', 'If we are not free, no one will respect us.', 'My second vision for India is DEVELOPMENT.', 'For fifty years we have been a developing nation.', 'It is time we see ourselves as a developed nation.', 'We are among top 5 nations of the world in terms of GDP.', 'We have 10 percent growth rate in most areas.', 'Our poverty levels are falling, our achievements are being globally recognized today.', 'Yet we lack the self-confidence to see ourselves as a developed nation, self reliant and self assured.', \"Isn't this right?\", 'I have a third vision.', 'The India must stand up to the world.', 'Because I believe that unless India stands up to the world, no one will respect us.', 'Only strength respects strength.', 'We must be strong not only as a military power but also as an economic power.', 'Both must go hand-in-hand.', 'My good fortune was to have work with three great minds.', 'Dr Vikram Sarabhai of the Dept.', 'of space, Professor Satish Dhawan, who succeeded him, and Dr.Brahm Prakash, father of nuclear material.', 'I was lucky to have worked with all three of them closely and consider this the great opportunity of my life.', 'I see four milestones in my career:']\n"
     ]
    }
   ],
   "source": [
    "print(sentences)"
   ]
  },
  {
   "cell_type": "markdown",
   "id": "6a573745",
   "metadata": {},
   "source": [
    "Tokenizing words"
   ]
  },
  {
   "cell_type": "code",
   "execution_count": 17,
   "id": "581061de",
   "metadata": {},
   "outputs": [],
   "source": [
    "words = nltk.word_tokenize(paragraph)"
   ]
  },
  {
   "cell_type": "code",
   "execution_count": 18,
   "id": "aa5132dc",
   "metadata": {},
   "outputs": [
    {
     "name": "stdout",
     "output_type": "stream",
     "text": [
      "['I', 'have', 'three', 'visions', 'for', 'India', '.', 'In', '3000', 'years', 'of', 'our', 'history', ',', 'people', 'from', 'allover', 'the', 'world', 'have', 'come', 'and', 'invaded', 'us', ',', 'captured', 'our', 'lands', ',', 'conquered', 'our', 'minds', '.', 'From', 'Alexander', 'onwards', '.', 'The', 'Greeks', ',', 'the', 'Portuguese', ',', 'the', 'British', ',', 'the', 'French', ',', 'the', 'Dutch', ',', 'all', 'of', 'them', 'came', 'and', 'looted', 'us', ',', 'took', 'over', 'what', 'was', 'ours', '.', 'Yet', 'we', 'have', 'not', 'done', 'this', 'to', 'any', 'other', 'nation', '.', 'We', 'have', 'not', 'conquered', 'anyone', '.', 'We', 'have', 'not', 'grabbed', 'their', 'land', ',', 'their', 'culture', ',', 'their', 'history', 'tried', 'to', 'enforce', 'our', 'way', 'of', 'life', 'on', 'them', '.', 'Why', '?', 'Because', 'we', 'respect', 'the', 'freedom', 'of', 'others', '.', 'That', 'is', 'why', 'my', 'first', 'vision', 'is', 'that', 'of', 'FREEDOM', '.', 'I', 'believe', 'that', 'India', 'got', 'its', 'first', 'vision', 'of', 'this', 'in', '1857', ',', 'when', 'we', 'started', 'the', 'war', 'of', 'independence', '.', 'It', 'is', 'this', 'freedom', 'that', 'we', 'must', 'protect', 'and', 'nurture', 'and', 'built', 'on', '.', 'If', 'we', 'are', 'not', 'free', ',', 'no', 'one', 'will', 'respect', 'us', '.', 'My', 'second', 'vision', 'for', 'India', 'is', 'DEVELOPMENT', '.', 'For', 'fifty', 'years', 'we', 'have', 'been', 'a', 'developing', 'nation', '.', 'It', 'is', 'time', 'we', 'see', 'ourselves', 'as', 'a', 'developed', 'nation', '.', 'We', 'are', 'among', 'top', '5', 'nations', 'of', 'the', 'world', 'in', 'terms', 'of', 'GDP', '.', 'We', 'have', '10', 'percent', 'growth', 'rate', 'in', 'most', 'areas', '.', 'Our', 'poverty', 'levels', 'are', 'falling', ',', 'our', 'achievements', 'are', 'being', 'globally', 'recognized', 'today', '.', 'Yet', 'we', 'lack', 'the', 'self-confidence', 'to', 'see', 'ourselves', 'as', 'a', 'developed', 'nation', ',', 'self', 'reliant', 'and', 'self', 'assured', '.', 'Is', \"n't\", 'this', 'right', '?', 'I', 'have', 'a', 'third', 'vision', '.', 'The', 'India', 'must', 'stand', 'up', 'to', 'the', 'world', '.', 'Because', 'I', 'believe', 'that', 'unless', 'India', 'stands', 'up', 'to', 'the', 'world', ',', 'no', 'one', 'will', 'respect', 'us', '.', 'Only', 'strength', 'respects', 'strength', '.', 'We', 'must', 'be', 'strong', 'not', 'only', 'as', 'a', 'military', 'power', 'but', 'also', 'as', 'an', 'economic', 'power', '.', 'Both', 'must', 'go', 'hand-in-hand', '.', 'My', 'good', 'fortune', 'was', 'to', 'have', 'work', 'with', 'three', 'great', 'minds', '.', 'Dr', 'Vikram', 'Sarabhai', 'of', 'the', 'Dept', '.', 'of', 'space', ',', 'Professor', 'Satish', 'Dhawan', ',', 'who', 'succeeded', 'him', ',', 'and', 'Dr.Brahm', 'Prakash', ',', 'father', 'of', 'nuclear', 'material', '.', 'I', 'was', 'lucky', 'to', 'have', 'worked', 'with', 'all', 'three', 'of', 'them', 'closely', 'and', 'consider', 'this', 'the', 'great', 'opportunity', 'of', 'my', 'life', '.', 'I', 'see', 'four', 'milestones', 'in', 'my', 'career', ':']\n"
     ]
    }
   ],
   "source": [
    "print(words)"
   ]
  },
  {
   "cell_type": "code",
   "execution_count": 19,
   "id": "18229667",
   "metadata": {},
   "outputs": [
    {
     "name": "stdout",
     "output_type": "stream",
     "text": [
      "393 32\n"
     ]
    }
   ],
   "source": [
    "print(len(words),len(sentences))"
   ]
  },
  {
   "cell_type": "markdown",
   "id": "2a45f273",
   "metadata": {},
   "source": [
    "Stemming"
   ]
  },
  {
   "cell_type": "code",
   "execution_count": 20,
   "id": "9c400663",
   "metadata": {},
   "outputs": [],
   "source": [
    "from nltk.stem import PorterStemmer\n",
    "from nltk.corpus import stopwords"
   ]
  },
  {
   "cell_type": "code",
   "execution_count": 21,
   "id": "1e0bcdbe",
   "metadata": {},
   "outputs": [],
   "source": [
    "stemmer = PorterStemmer()"
   ]
  },
  {
   "cell_type": "code",
   "execution_count": 22,
   "id": "fc447c1a",
   "metadata": {},
   "outputs": [
    {
     "data": {
      "text/plain": [
       "['i',\n",
       " 'me',\n",
       " 'my',\n",
       " 'myself',\n",
       " 'we',\n",
       " 'our',\n",
       " 'ours',\n",
       " 'ourselves',\n",
       " 'you',\n",
       " \"you're\",\n",
       " \"you've\",\n",
       " \"you'll\",\n",
       " \"you'd\",\n",
       " 'your',\n",
       " 'yours',\n",
       " 'yourself',\n",
       " 'yourselves',\n",
       " 'he',\n",
       " 'him',\n",
       " 'his',\n",
       " 'himself',\n",
       " 'she',\n",
       " \"she's\",\n",
       " 'her',\n",
       " 'hers',\n",
       " 'herself',\n",
       " 'it',\n",
       " \"it's\",\n",
       " 'its',\n",
       " 'itself',\n",
       " 'they',\n",
       " 'them',\n",
       " 'their',\n",
       " 'theirs',\n",
       " 'themselves',\n",
       " 'what',\n",
       " 'which',\n",
       " 'who',\n",
       " 'whom',\n",
       " 'this',\n",
       " 'that',\n",
       " \"that'll\",\n",
       " 'these',\n",
       " 'those',\n",
       " 'am',\n",
       " 'is',\n",
       " 'are',\n",
       " 'was',\n",
       " 'were',\n",
       " 'be',\n",
       " 'been',\n",
       " 'being',\n",
       " 'have',\n",
       " 'has',\n",
       " 'had',\n",
       " 'having',\n",
       " 'do',\n",
       " 'does',\n",
       " 'did',\n",
       " 'doing',\n",
       " 'a',\n",
       " 'an',\n",
       " 'the',\n",
       " 'and',\n",
       " 'but',\n",
       " 'if',\n",
       " 'or',\n",
       " 'because',\n",
       " 'as',\n",
       " 'until',\n",
       " 'while',\n",
       " 'of',\n",
       " 'at',\n",
       " 'by',\n",
       " 'for',\n",
       " 'with',\n",
       " 'about',\n",
       " 'against',\n",
       " 'between',\n",
       " 'into',\n",
       " 'through',\n",
       " 'during',\n",
       " 'before',\n",
       " 'after',\n",
       " 'above',\n",
       " 'below',\n",
       " 'to',\n",
       " 'from',\n",
       " 'up',\n",
       " 'down',\n",
       " 'in',\n",
       " 'out',\n",
       " 'on',\n",
       " 'off',\n",
       " 'over',\n",
       " 'under',\n",
       " 'again',\n",
       " 'further',\n",
       " 'then',\n",
       " 'once',\n",
       " 'here',\n",
       " 'there',\n",
       " 'when',\n",
       " 'where',\n",
       " 'why',\n",
       " 'how',\n",
       " 'all',\n",
       " 'any',\n",
       " 'both',\n",
       " 'each',\n",
       " 'few',\n",
       " 'more',\n",
       " 'most',\n",
       " 'other',\n",
       " 'some',\n",
       " 'such',\n",
       " 'no',\n",
       " 'nor',\n",
       " 'not',\n",
       " 'only',\n",
       " 'own',\n",
       " 'same',\n",
       " 'so',\n",
       " 'than',\n",
       " 'too',\n",
       " 'very',\n",
       " 's',\n",
       " 't',\n",
       " 'can',\n",
       " 'will',\n",
       " 'just',\n",
       " 'don',\n",
       " \"don't\",\n",
       " 'should',\n",
       " \"should've\",\n",
       " 'now',\n",
       " 'd',\n",
       " 'll',\n",
       " 'm',\n",
       " 'o',\n",
       " 're',\n",
       " 've',\n",
       " 'y',\n",
       " 'ain',\n",
       " 'aren',\n",
       " \"aren't\",\n",
       " 'couldn',\n",
       " \"couldn't\",\n",
       " 'didn',\n",
       " \"didn't\",\n",
       " 'doesn',\n",
       " \"doesn't\",\n",
       " 'hadn',\n",
       " \"hadn't\",\n",
       " 'hasn',\n",
       " \"hasn't\",\n",
       " 'haven',\n",
       " \"haven't\",\n",
       " 'isn',\n",
       " \"isn't\",\n",
       " 'ma',\n",
       " 'mightn',\n",
       " \"mightn't\",\n",
       " 'mustn',\n",
       " \"mustn't\",\n",
       " 'needn',\n",
       " \"needn't\",\n",
       " 'shan',\n",
       " \"shan't\",\n",
       " 'shouldn',\n",
       " \"shouldn't\",\n",
       " 'wasn',\n",
       " \"wasn't\",\n",
       " 'weren',\n",
       " \"weren't\",\n",
       " 'won',\n",
       " \"won't\",\n",
       " 'wouldn',\n",
       " \"wouldn't\"]"
      ]
     },
     "execution_count": 22,
     "metadata": {},
     "output_type": "execute_result"
    }
   ],
   "source": [
    "stopwords.words('english')"
   ]
  },
  {
   "cell_type": "code",
   "execution_count": 26,
   "id": "763371e5",
   "metadata": {},
   "outputs": [
    {
     "name": "stdout",
     "output_type": "stream",
     "text": [
      "['i', 'three', 'vision', 'india', '.']\n",
      "i three vision india .\n",
      "['in', '3000', 'year', 'histori', ',', 'peopl', 'allov', 'world', 'come', 'invad', 'us', ',', 'captur', 'land', ',', 'conquer', 'mind', '.']\n",
      "in 3000 year histori , peopl allov world come invad us , captur land , conquer mind .\n",
      "['from', 'alexand', 'onward', '.']\n",
      "from alexand onward .\n",
      "['the', 'greek', ',', 'portugues', ',', 'british', ',', 'french', ',', 'dutch', ',', 'came', 'loot', 'us', ',', 'took', '.']\n",
      "the greek , portugues , british , french , dutch , came loot us , took .\n",
      "['yet', 'done', 'nation', '.']\n",
      "yet done nation .\n",
      "['we', 'conquer', 'anyon', '.']\n",
      "we conquer anyon .\n",
      "['we', 'grab', 'land', ',', 'cultur', ',', 'histori', 'tri', 'enforc', 'way', 'life', '.']\n",
      "we grab land , cultur , histori tri enforc way life .\n",
      "['whi', '?']\n",
      "whi ?\n",
      "['becaus', 'respect', 'freedom', 'other', '.']\n",
      "becaus respect freedom other .\n",
      "['that', 'first', 'vision', 'freedom', '.']\n",
      "that first vision freedom .\n",
      "['i', 'believ', 'india', 'got', 'first', 'vision', '1857', ',', 'start', 'war', 'independ', '.']\n",
      "i believ india got first vision 1857 , start war independ .\n",
      "['it', 'freedom', 'must', 'protect', 'nurtur', 'built', '.']\n",
      "it freedom must protect nurtur built .\n",
      "['if', 'free', ',', 'one', 'respect', 'us', '.']\n",
      "if free , one respect us .\n",
      "['my', 'second', 'vision', 'india', 'develop', '.']\n",
      "my second vision india develop .\n",
      "['for', 'fifti', 'year', 'develop', 'nation', '.']\n",
      "for fifti year develop nation .\n",
      "['it', 'time', 'see', 'develop', 'nation', '.']\n",
      "it time see develop nation .\n",
      "['we', 'among', 'top', '5', 'nation', 'world', 'term', 'gdp', '.']\n",
      "we among top 5 nation world term gdp .\n",
      "['we', '10', 'percent', 'growth', 'rate', 'area', '.']\n",
      "we 10 percent growth rate area .\n",
      "['our', 'poverti', 'level', 'fall', ',', 'achiev', 'global', 'recogn', 'today', '.']\n",
      "our poverti level fall , achiev global recogn today .\n",
      "['yet', 'lack', 'self-confid', 'see', 'develop', 'nation', ',', 'self', 'reliant', 'self', 'assur', '.']\n",
      "yet lack self-confid see develop nation , self reliant self assur .\n",
      "['is', \"n't\", 'right', '?']\n",
      "is n't right ?\n",
      "['i', 'third', 'vision', '.']\n",
      "i third vision .\n",
      "['the', 'india', 'must', 'stand', 'world', '.']\n",
      "the india must stand world .\n",
      "['becaus', 'i', 'believ', 'unless', 'india', 'stand', 'world', ',', 'one', 'respect', 'us', '.']\n",
      "becaus i believ unless india stand world , one respect us .\n",
      "['onli', 'strength', 'respect', 'strength', '.']\n",
      "onli strength respect strength .\n",
      "['we', 'must', 'strong', 'militari', 'power', 'also', 'econom', 'power', '.']\n",
      "we must strong militari power also econom power .\n",
      "['both', 'must', 'go', 'hand-in-hand', '.']\n",
      "both must go hand-in-hand .\n",
      "['my', 'good', 'fortun', 'work', 'three', 'great', 'mind', '.']\n",
      "my good fortun work three great mind .\n",
      "['dr', 'vikram', 'sarabhai', 'dept', '.']\n",
      "dr vikram sarabhai dept .\n",
      "['space', ',', 'professor', 'satish', 'dhawan', ',', 'succeed', ',', 'dr.brahm', 'prakash', ',', 'father', 'nuclear', 'materi', '.']\n",
      "space , professor satish dhawan , succeed , dr.brahm prakash , father nuclear materi .\n",
      "['i', 'lucki', 'work', 'three', 'close', 'consid', 'great', 'opportun', 'life', '.']\n",
      "i lucki work three close consid great opportun life .\n",
      "['i', 'see', 'four', 'mileston', 'career', ':']\n",
      "i see four mileston career :\n"
     ]
    }
   ],
   "source": [
    "for i in range(len(sentences)):\n",
    "    words = nltk.word_tokenize(sentences[i])\n",
    "#     print(words)\n",
    "    words = [stemmer.stem(word) for word in words if word not in set(stopwords.words('english'))]\n",
    "    print(words)\n",
    "    sentences[i] = ' '.join(words)\n",
    "    print(sentences[i])"
   ]
  },
  {
   "cell_type": "markdown",
   "id": "2e1a8a27",
   "metadata": {},
   "source": [
    "Lemmatization"
   ]
  },
  {
   "cell_type": "code",
   "execution_count": 41,
   "id": "269b4bbb",
   "metadata": {},
   "outputs": [],
   "source": [
    "from nltk.stem import WordNetLemmatizer\n",
    "from nltk.corpus import stopwords     # helps to remove of,if,the,i"
   ]
  },
  {
   "cell_type": "code",
   "execution_count": 42,
   "id": "0ba7e0b5",
   "metadata": {},
   "outputs": [],
   "source": [
    "paragraph = \"\"\" I have three visions for India. In 3000 years of our history, people from all over the world have come and invaded us, captured our lands, conquered our minds. \n",
    "From Alexander onwards. The Greeks, the Portuguese, the British, the French, the Dutch, all of them came and looted us, took over what was ours. \n",
    "Yet we have not done this to any other nation. We have not conquered anyone. We have not grabbed their land, their culture, their history tried to enforce our way of life on them. Why? Because we respect the freedom of others. \n",
    "That is why my first vision is that of FREEDOM. \n",
    "I believe that India got its first vision of this in 1857, when we started the war of independence. It is this freedom that we must protect and nurture and built on. \n",
    "If we are not free, no one will respect us. My second vision for India is DEVELOPMENT. \n",
    "For fifty years we have been a developing nation. It is time we see ourselves as a developed nation. We are among top 5 nations of the world in terms of GDP. \n",
    "We have 10 percent growth rate in most areas. Our poverty levels are falling, our achievements are being globally recognized today. \n",
    "Yet we lack the self-confidence to see ourselves as a developed nation, self reliant and self assured. Isn't this right?\n",
    "I have a third vision. The India must stand up to the world. Because I believe that unless India stands up to the world, no one will respect us. \n",
    "Only strength respects strength. We must be strong not only as a military power but also as an economic power. Both must go hand-in-hand.\n",
    "My good fortune was to have work with three great minds. Dr Vikram Sarabhai of the Dept. of space, Professor Satish Dhawan, who succeeded him, and Dr.Brahm Prakash, father of nuclear material. \n",
    "I was lucky to have worked with all three of them closely and consider this the great opportunity of my life.\n",
    "I see four milestones in my career: \"\"\""
   ]
  },
  {
   "cell_type": "code",
   "execution_count": 43,
   "id": "bf231fb6",
   "metadata": {},
   "outputs": [
    {
     "data": {
      "text/plain": [
       "\" I have three visions for India. In 3000 years of our history, people from all over the world have come and invaded us, captured our lands, conquered our minds. \\nFrom Alexander onwards. The Greeks, the Portuguese, the British, the French, the Dutch, all of them came and looted us, took over what was ours. \\nYet we have not done this to any other nation. We have not conquered anyone. We have not grabbed their land, their culture, their history tried to enforce our way of life on them. Why? Because we respect the freedom of others. \\nThat is why my first vision is that of FREEDOM. \\nI believe that India got its first vision of this in 1857, when we started the war of independence. It is this freedom that we must protect and nurture and built on. \\nIf we are not free, no one will respect us. My second vision for India is DEVELOPMENT. \\nFor fifty years we have been a developing nation. It is time we see ourselves as a developed nation. We are among top 5 nations of the world in terms of GDP. \\nWe have 10 percent growth rate in most areas. Our poverty levels are falling, our achievements are being globally recognized today. \\nYet we lack the self-confidence to see ourselves as a developed nation, self reliant and self assured. Isn't this right?\\nI have a third vision. The India must stand up to the world. Because I believe that unless India stands up to the world, no one will respect us. \\nOnly strength respects strength. We must be strong not only as a military power but also as an economic power. Both must go hand-in-hand.\\nMy good fortune was to have work with three great minds. Dr Vikram Sarabhai of the Dept. of space, Professor Satish Dhawan, who succeeded him, and Dr.Brahm Prakash, father of nuclear material. \\nI was lucky to have worked with all three of them closely and consider this the great opportunity of my life.\\nI see four milestones in my career: \""
      ]
     },
     "execution_count": 43,
     "metadata": {},
     "output_type": "execute_result"
    }
   ],
   "source": [
    "paragraph"
   ]
  },
  {
   "cell_type": "code",
   "execution_count": 44,
   "id": "8f1863df",
   "metadata": {},
   "outputs": [],
   "source": [
    "sentences = nltk.sent_tokenize(paragraph)"
   ]
  },
  {
   "cell_type": "code",
   "execution_count": 45,
   "id": "0e321ac6",
   "metadata": {},
   "outputs": [
    {
     "data": {
      "text/plain": [
       "[' I have three visions for India.',\n",
       " 'In 3000 years of our history, people from all over the world have come and invaded us, captured our lands, conquered our minds.',\n",
       " 'From Alexander onwards.',\n",
       " 'The Greeks, the Portuguese, the British, the French, the Dutch, all of them came and looted us, took over what was ours.',\n",
       " 'Yet we have not done this to any other nation.',\n",
       " 'We have not conquered anyone.',\n",
       " 'We have not grabbed their land, their culture, their history tried to enforce our way of life on them.',\n",
       " 'Why?',\n",
       " 'Because we respect the freedom of others.',\n",
       " 'That is why my first vision is that of FREEDOM.',\n",
       " 'I believe that India got its first vision of this in 1857, when we started the war of independence.',\n",
       " 'It is this freedom that we must protect and nurture and built on.',\n",
       " 'If we are not free, no one will respect us.',\n",
       " 'My second vision for India is DEVELOPMENT.',\n",
       " 'For fifty years we have been a developing nation.',\n",
       " 'It is time we see ourselves as a developed nation.',\n",
       " 'We are among top 5 nations of the world in terms of GDP.',\n",
       " 'We have 10 percent growth rate in most areas.',\n",
       " 'Our poverty levels are falling, our achievements are being globally recognized today.',\n",
       " 'Yet we lack the self-confidence to see ourselves as a developed nation, self reliant and self assured.',\n",
       " \"Isn't this right?\",\n",
       " 'I have a third vision.',\n",
       " 'The India must stand up to the world.',\n",
       " 'Because I believe that unless India stands up to the world, no one will respect us.',\n",
       " 'Only strength respects strength.',\n",
       " 'We must be strong not only as a military power but also as an economic power.',\n",
       " 'Both must go hand-in-hand.',\n",
       " 'My good fortune was to have work with three great minds.',\n",
       " 'Dr Vikram Sarabhai of the Dept.',\n",
       " 'of space, Professor Satish Dhawan, who succeeded him, and Dr.Brahm Prakash, father of nuclear material.',\n",
       " 'I was lucky to have worked with all three of them closely and consider this the great opportunity of my life.',\n",
       " 'I see four milestones in my career:']"
      ]
     },
     "execution_count": 45,
     "metadata": {},
     "output_type": "execute_result"
    }
   ],
   "source": [
    "sentences"
   ]
  },
  {
   "cell_type": "code",
   "execution_count": 46,
   "id": "af80f465",
   "metadata": {},
   "outputs": [],
   "source": [
    "lematizer = WordNetLemmatizer()"
   ]
  },
  {
   "cell_type": "code",
   "execution_count": 47,
   "id": "a37848f6",
   "metadata": {},
   "outputs": [
    {
     "name": "stdout",
     "output_type": "stream",
     "text": [
      "['I', 'three', 'vision', 'India', '.']\n",
      "I three vision India .\n",
      "['In', '3000', 'year', 'history', ',', 'people', 'world', 'come', 'invaded', 'u', ',', 'captured', 'land', ',', 'conquered', 'mind', '.']\n",
      "In 3000 year history , people world come invaded u , captured land , conquered mind .\n",
      "['From', 'Alexander', 'onwards', '.']\n",
      "From Alexander onwards .\n",
      "['The', 'Greeks', ',', 'Portuguese', ',', 'British', ',', 'French', ',', 'Dutch', ',', 'came', 'looted', 'u', ',', 'took', '.']\n",
      "The Greeks , Portuguese , British , French , Dutch , came looted u , took .\n",
      "['Yet', 'done', 'nation', '.']\n",
      "Yet done nation .\n",
      "['We', 'conquered', 'anyone', '.']\n",
      "We conquered anyone .\n",
      "['We', 'grabbed', 'land', ',', 'culture', ',', 'history', 'tried', 'enforce', 'way', 'life', '.']\n",
      "We grabbed land , culture , history tried enforce way life .\n",
      "['Why', '?']\n",
      "Why ?\n",
      "['Because', 'respect', 'freedom', 'others', '.']\n",
      "Because respect freedom others .\n",
      "['That', 'first', 'vision', 'FREEDOM', '.']\n",
      "That first vision FREEDOM .\n",
      "['I', 'believe', 'India', 'got', 'first', 'vision', '1857', ',', 'started', 'war', 'independence', '.']\n",
      "I believe India got first vision 1857 , started war independence .\n",
      "['It', 'freedom', 'must', 'protect', 'nurture', 'built', '.']\n",
      "It freedom must protect nurture built .\n",
      "['If', 'free', ',', 'one', 'respect', 'u', '.']\n",
      "If free , one respect u .\n",
      "['My', 'second', 'vision', 'India', 'DEVELOPMENT', '.']\n",
      "My second vision India DEVELOPMENT .\n",
      "['For', 'fifty', 'year', 'developing', 'nation', '.']\n",
      "For fifty year developing nation .\n",
      "['It', 'time', 'see', 'developed', 'nation', '.']\n",
      "It time see developed nation .\n",
      "['We', 'among', 'top', '5', 'nation', 'world', 'term', 'GDP', '.']\n",
      "We among top 5 nation world term GDP .\n",
      "['We', '10', 'percent', 'growth', 'rate', 'area', '.']\n",
      "We 10 percent growth rate area .\n",
      "['Our', 'poverty', 'level', 'falling', ',', 'achievement', 'globally', 'recognized', 'today', '.']\n",
      "Our poverty level falling , achievement globally recognized today .\n",
      "['Yet', 'lack', 'self-confidence', 'see', 'developed', 'nation', ',', 'self', 'reliant', 'self', 'assured', '.']\n",
      "Yet lack self-confidence see developed nation , self reliant self assured .\n",
      "['Is', \"n't\", 'right', '?']\n",
      "Is n't right ?\n",
      "['I', 'third', 'vision', '.']\n",
      "I third vision .\n",
      "['The', 'India', 'must', 'stand', 'world', '.']\n",
      "The India must stand world .\n",
      "['Because', 'I', 'believe', 'unless', 'India', 'stand', 'world', ',', 'one', 'respect', 'u', '.']\n",
      "Because I believe unless India stand world , one respect u .\n",
      "['Only', 'strength', 'respect', 'strength', '.']\n",
      "Only strength respect strength .\n",
      "['We', 'must', 'strong', 'military', 'power', 'also', 'economic', 'power', '.']\n",
      "We must strong military power also economic power .\n",
      "['Both', 'must', 'go', 'hand-in-hand', '.']\n",
      "Both must go hand-in-hand .\n",
      "['My', 'good', 'fortune', 'work', 'three', 'great', 'mind', '.']\n",
      "My good fortune work three great mind .\n",
      "['Dr', 'Vikram', 'Sarabhai', 'Dept', '.']\n",
      "Dr Vikram Sarabhai Dept .\n",
      "['space', ',', 'Professor', 'Satish', 'Dhawan', ',', 'succeeded', ',', 'Dr.Brahm', 'Prakash', ',', 'father', 'nuclear', 'material', '.']\n",
      "space , Professor Satish Dhawan , succeeded , Dr.Brahm Prakash , father nuclear material .\n",
      "['I', 'lucky', 'worked', 'three', 'closely', 'consider', 'great', 'opportunity', 'life', '.']\n",
      "I lucky worked three closely consider great opportunity life .\n",
      "['I', 'see', 'four', 'milestone', 'career', ':']\n",
      "I see four milestone career :\n"
     ]
    }
   ],
   "source": [
    "for i in range(len(sentences)):\n",
    "    words = nltk.word_tokenize(sentences[i])\n",
    "#     print(words)\n",
    "    words = [lematizer.lemmatize(word) for word in words if word not in set(stopwords.words('english'))]\n",
    "    print(words)\n",
    "    sentences[i] = ' '.join(words)\n",
    "    print(sentences[i])"
   ]
  },
  {
   "cell_type": "markdown",
   "id": "85c2197e",
   "metadata": {},
   "source": [
    "Bag Of Words"
   ]
  },
  {
   "cell_type": "code",
   "execution_count": 60,
   "id": "2d869618",
   "metadata": {},
   "outputs": [
    {
     "name": "stdout",
     "output_type": "stream",
     "text": [
      "three vision india\n",
      "year history people world come invaded u captured land conquered mind\n",
      "alexander onwards\n",
      "greek portuguese british french dutch came looted u took\n",
      "yet done nation\n",
      "conquered anyone\n",
      "grabbed land culture history tried enforce way life\n",
      "\n",
      "respect freedom others\n",
      "first vision freedom\n",
      "believe india got first vision started war independence\n",
      "freedom must protect nurture built\n",
      "free one respect u\n",
      "second vision india development\n",
      "fifty year developing nation\n",
      "time see developed nation\n",
      "among top nation world term gdp\n",
      "percent growth rate area\n",
      "poverty level falling achievement globally recognized today\n",
      "yet lack self confidence see developed nation self reliant self assured\n",
      "right\n",
      "third vision\n",
      "india must stand world\n",
      "believe unless india stand world one respect u\n",
      "strength respect strength\n",
      "must strong military power also economic power\n",
      "must go hand hand\n",
      "good fortune work three great mind\n",
      "dr vikram sarabhai dept\n",
      "space professor satish dhawan succeeded dr brahm prakash father nuclear material\n",
      "lucky worked three closely consider great opportunity life\n",
      "see four milestone career\n",
      "['three vision india', 'year history people world come invaded u captured land conquered mind', 'alexander onwards', 'greek portuguese british french dutch came looted u took', 'yet done nation', 'conquered anyone', 'grabbed land culture history tried enforce way life', '', 'respect freedom others', 'first vision freedom', 'believe india got first vision started war independence', 'freedom must protect nurture built', 'free one respect u', 'second vision india development', 'fifty year developing nation', 'time see developed nation', 'among top nation world term gdp', 'percent growth rate area', 'poverty level falling achievement globally recognized today', 'yet lack self confidence see developed nation self reliant self assured', 'right', 'third vision', 'india must stand world', 'believe unless india stand world one respect u', 'strength respect strength', 'must strong military power also economic power', 'must go hand hand', 'good fortune work three great mind', 'dr vikram sarabhai dept', 'space professor satish dhawan succeeded dr brahm prakash father nuclear material', 'lucky worked three closely consider great opportunity life', 'see four milestone career']\n",
      "[[0 0 0 ... 0 0 0]\n",
      " [0 0 0 ... 1 1 0]\n",
      " [0 1 0 ... 0 0 0]\n",
      " ...\n",
      " [0 0 0 ... 0 0 0]\n",
      " [0 0 0 ... 0 0 0]\n",
      " [0 0 0 ... 0 0 0]]\n"
     ]
    }
   ],
   "source": [
    "#Cleaning the text\n",
    "\n",
    "import nltk\n",
    "import re\n",
    "from nltk.stem import WordNetLemmatizer\n",
    "from nltk.corpus import stopwords\n",
    "\n",
    "paragraph = \"\"\" I have three visions for India. In 3000 years of our history, people from all over the world have come and invaded us, captured our lands, conquered our minds. \n",
    "From Alexander onwards. The Greeks, the Portuguese, the British, the French, the Dutch, all of them came and looted us, took over what was ours. \n",
    "Yet we have not done this to any other nation. We have not conquered anyone. We have not grabbed their land, their culture, their history tried to enforce our way of life on them. Why? Because we respect the freedom of others. \n",
    "That is why my first vision is that of FREEDOM. \n",
    "I believe that India got its first vision of this in 1857, when we started the war of independence. It is this freedom that we must protect and nurture and built on. \n",
    "If we are not free, no one will respect us. My second vision for India is DEVELOPMENT. \n",
    "For fifty years we have been a developing nation. It is time we see ourselves as a developed nation. We are among top 5 nations of the world in terms of GDP. \n",
    "We have 10 percent growth rate in most areas. Our poverty levels are falling, our achievements are being globally recognized today. \n",
    "Yet we lack the self-confidence to see ourselves as a developed nation, self reliant and self assured. Isn't this right?\n",
    "I have a third vision. The India must stand up to the world. Because I believe that unless India stands up to the world, no one will respect us. \n",
    "Only strength respects strength. We must be strong not only as a military power but also as an economic power. Both must go hand-in-hand.\n",
    "My good fortune was to have work with three great minds. Dr Vikram Sarabhai of the Dept. of space, Professor Satish Dhawan, who succeeded him, and Dr.Brahm Prakash, father of nuclear material. \n",
    "I was lucky to have worked with all three of them closely and consider this the great opportunity of my life.\n",
    "I see four milestones in my career: \"\"\"\n",
    "\n",
    "lemmatize = WordNetLemmatizer()\n",
    "sentences = nltk.sent_tokenize(paragraph)\n",
    "corpus = []\n",
    "\n",
    "for i in range(len(sentences)):\n",
    "    review = re.sub('[^a-zA-Z]',' ',sentences[i])         # Remove unwanted expressions\n",
    "    review = review.lower()                               # Lower the sentences\n",
    "    review = review.split()\n",
    "    review = [lemmatize.lemmatize(word) for word in review if word not in set(stopwords.words('english'))]\n",
    "    review = ' '.join(review)\n",
    "    corpus.append(review)\n",
    "    print(review)\n",
    "\n",
    "print(corpus)\n",
    "\n",
    "\n",
    "# Creating the Bag Of Words model\n",
    "from sklearn.feature_extraction.text import CountVectorizer\n",
    "cv = CountVectorizer()\n",
    "# x = cv.fit_transform(corpus)\n",
    "x = cv.fit_transform(corpus).toarray()\n",
    "print(x)"
   ]
  },
  {
   "cell_type": "code",
   "execution_count": 61,
   "id": "b8fdb4b2",
   "metadata": {},
   "outputs": [
    {
     "data": {
      "text/plain": [
       "array([[0, 0, 0, ..., 0, 0, 0],\n",
       "       [0, 0, 0, ..., 1, 1, 0],\n",
       "       [0, 1, 0, ..., 0, 0, 0],\n",
       "       ...,\n",
       "       [0, 0, 0, ..., 0, 0, 0],\n",
       "       [0, 0, 0, ..., 0, 0, 0],\n",
       "       [0, 0, 0, ..., 0, 0, 0]], dtype=int64)"
      ]
     },
     "execution_count": 61,
     "metadata": {},
     "output_type": "execute_result"
    }
   ],
   "source": [
    "x"
   ]
  },
  {
   "cell_type": "code",
   "execution_count": 62,
   "id": "e807d579",
   "metadata": {},
   "outputs": [
    {
     "name": "stdout",
     "output_type": "stream",
     "text": [
      "three vision india\n",
      "year history people world come invaded u captured land conquered mind\n",
      "alexander onwards\n",
      "greek portuguese british french dutch came looted u took\n",
      "yet done nation\n",
      "conquered anyone\n",
      "grabbed land culture history tried enforce way life\n",
      "\n",
      "respect freedom others\n",
      "first vision freedom\n",
      "believe india got first vision started war independence\n",
      "freedom must protect nurture built\n",
      "free one respect u\n",
      "second vision india development\n",
      "fifty year developing nation\n",
      "time see developed nation\n",
      "among top nation world term gdp\n",
      "percent growth rate area\n",
      "poverty level falling achievement globally recognized today\n",
      "yet lack self confidence see developed nation self reliant self assured\n",
      "right\n",
      "third vision\n",
      "india must stand world\n",
      "believe unless india stand world one respect u\n",
      "strength respect strength\n",
      "must strong military power also economic power\n",
      "must go hand hand\n",
      "good fortune work three great mind\n",
      "dr vikram sarabhai dept\n",
      "space professor satish dhawan succeeded dr brahm prakash father nuclear material\n",
      "lucky worked three closely consider great opportunity life\n",
      "see four milestone career\n",
      "['three vision india', 'year history people world come invaded u captured land conquered mind', 'alexander onwards', 'greek portuguese british french dutch came looted u took', 'yet done nation', 'conquered anyone', 'grabbed land culture history tried enforce way life', '', 'respect freedom others', 'first vision freedom', 'believe india got first vision started war independence', 'freedom must protect nurture built', 'free one respect u', 'second vision india development', 'fifty year developing nation', 'time see developed nation', 'among top nation world term gdp', 'percent growth rate area', 'poverty level falling achievement globally recognized today', 'yet lack self confidence see developed nation self reliant self assured', 'right', 'third vision', 'india must stand world', 'believe unless india stand world one respect u', 'strength respect strength', 'must strong military power also economic power', 'must go hand hand', 'good fortune work three great mind', 'dr vikram sarabhai dept', 'space professor satish dhawan succeeded dr brahm prakash father nuclear material', 'lucky worked three closely consider great opportunity life', 'see four milestone career']\n",
      "[[0.         0.         0.         ... 0.         0.         0.        ]\n",
      " [0.         0.         0.         ... 0.25934408 0.3052313  0.        ]\n",
      " [0.         0.70710678 0.         ... 0.         0.         0.        ]\n",
      " ...\n",
      " [0.         0.         0.         ... 0.         0.         0.        ]\n",
      " [0.         0.         0.         ... 0.         0.         0.        ]\n",
      " [0.         0.         0.         ... 0.         0.         0.        ]]\n"
     ]
    }
   ],
   "source": [
    "#Cleaning the text\n",
    "\n",
    "import nltk\n",
    "import re\n",
    "from nltk.stem import WordNetLemmatizer\n",
    "from nltk.corpus import stopwords\n",
    "\n",
    "paragraph = \"\"\" I have three visions for India. In 3000 years of our history, people from all over the world have come and invaded us, captured our lands, conquered our minds. \n",
    "From Alexander onwards. The Greeks, the Portuguese, the British, the French, the Dutch, all of them came and looted us, took over what was ours. \n",
    "Yet we have not done this to any other nation. We have not conquered anyone. We have not grabbed their land, their culture, their history tried to enforce our way of life on them. Why? Because we respect the freedom of others. \n",
    "That is why my first vision is that of FREEDOM. \n",
    "I believe that India got its first vision of this in 1857, when we started the war of independence. It is this freedom that we must protect and nurture and built on. \n",
    "If we are not free, no one will respect us. My second vision for India is DEVELOPMENT. \n",
    "For fifty years we have been a developing nation. It is time we see ourselves as a developed nation. We are among top 5 nations of the world in terms of GDP. \n",
    "We have 10 percent growth rate in most areas. Our poverty levels are falling, our achievements are being globally recognized today. \n",
    "Yet we lack the self-confidence to see ourselves as a developed nation, self reliant and self assured. Isn't this right?\n",
    "I have a third vision. The India must stand up to the world. Because I believe that unless India stands up to the world, no one will respect us. \n",
    "Only strength respects strength. We must be strong not only as a military power but also as an economic power. Both must go hand-in-hand.\n",
    "My good fortune was to have work with three great minds. Dr Vikram Sarabhai of the Dept. of space, Professor Satish Dhawan, who succeeded him, and Dr.Brahm Prakash, father of nuclear material. \n",
    "I was lucky to have worked with all three of them closely and consider this the great opportunity of my life.\n",
    "I see four milestones in my career: \"\"\"\n",
    "\n",
    "lemmatize = WordNetLemmatizer()\n",
    "sentences = nltk.sent_tokenize(paragraph)\n",
    "corpus = []\n",
    "\n",
    "for i in range(len(sentences)):\n",
    "    review = re.sub('[^a-zA-Z]',' ',sentences[i])         # Remove unwanted expressions\n",
    "    review = review.lower()                               # Lower the sentences\n",
    "    review = review.split()\n",
    "    review = [lemmatize.lemmatize(word) for word in review if word not in set(stopwords.words('english'))]\n",
    "    review = ' '.join(review)\n",
    "    corpus.append(review)\n",
    "    print(review)\n",
    "\n",
    "print(corpus)\n",
    "\n",
    "\n",
    "# Creating the Bag Of Words model\n",
    "from sklearn.feature_extraction.text import TfidfVectorizer\n",
    "cv = TfidfVectorizer()\n",
    "# x = cv.fit_transform(corpus)\n",
    "x = cv.fit_transform(corpus).toarray()\n",
    "print(x)"
   ]
  },
  {
   "cell_type": "code",
   "execution_count": 63,
   "id": "4d1fa2ca",
   "metadata": {},
   "outputs": [
    {
     "data": {
      "text/plain": [
       "array([[0.        , 0.        , 0.        , ..., 0.        , 0.        ,\n",
       "        0.        ],\n",
       "       [0.        , 0.        , 0.        , ..., 0.25934408, 0.3052313 ,\n",
       "        0.        ],\n",
       "       [0.        , 0.70710678, 0.        , ..., 0.        , 0.        ,\n",
       "        0.        ],\n",
       "       ...,\n",
       "       [0.        , 0.        , 0.        , ..., 0.        , 0.        ,\n",
       "        0.        ],\n",
       "       [0.        , 0.        , 0.        , ..., 0.        , 0.        ,\n",
       "        0.        ],\n",
       "       [0.        , 0.        , 0.        , ..., 0.        , 0.        ,\n",
       "        0.        ]])"
      ]
     },
     "execution_count": 63,
     "metadata": {},
     "output_type": "execute_result"
    }
   ],
   "source": [
    "x"
   ]
  },
  {
   "cell_type": "code",
   "execution_count": null,
   "id": "f1b68742",
   "metadata": {},
   "outputs": [],
   "source": []
  }
 ],
 "metadata": {
  "kernelspec": {
   "display_name": "Python 3 (ipykernel)",
   "language": "python",
   "name": "python3"
  },
  "language_info": {
   "codemirror_mode": {
    "name": "ipython",
    "version": 3
   },
   "file_extension": ".py",
   "mimetype": "text/x-python",
   "name": "python",
   "nbconvert_exporter": "python",
   "pygments_lexer": "ipython3",
   "version": "3.9.12"
  }
 },
 "nbformat": 4,
 "nbformat_minor": 5
}
